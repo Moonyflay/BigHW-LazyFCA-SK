{
  "cells": [
    {
      "cell_type": "markdown",
      "metadata": {
        "id": "Ij_zY4soDF2Z"
      },
      "source": [
        "# Cross-validation riddle"
      ]
    },
    {
      "cell_type": "markdown",
      "metadata": {
        "id": "qUCsY5OlDJPl"
      },
      "source": [
        "Here's a small example of cross-validation done wrongly. Can you spot the problem?"
      ]
    },
    {
      "cell_type": "code",
      "execution_count": 1,
      "metadata": {
        "id": "mSUzkXsC-R4H"
      },
      "outputs": [],
      "source": [
        "# Some imports...\n",
        "import numpy as np\n",
        "import matplotlib.pyplot as plt\n",
        "\n",
        "from sklearn.svm import LinearSVC\n",
        "from sklearn.model_selection import KFold, cross_val_score\n",
        "from sklearn.metrics import accuracy_score"
      ]
    },
    {
      "cell_type": "markdown",
      "metadata": {
        "id": "ZyDp3Xc_DaDM"
      },
      "source": [
        "**Plan:**\n",
        "\n",
        "- Let's create a binary classification dataset where targets are completely independent from the features\n",
        "  - *(i.e. no model could ever predict them well)*\n",
        "- We'll do some simple feature selection\n",
        "- And cross-validate a model on this data\n",
        "\n",
        "**Q:** what accuracy do we expect (classes are even)?"
      ]
    },
    {
      "cell_type": "markdown",
      "metadata": {
        "id": "IHx51DKP8Rcf"
      },
      "source": [
        "We'll start from writing a class to select the best features:"
      ]
    },
    {
      "cell_type": "code",
      "execution_count": 2,
      "metadata": {
        "id": "rRNmKZJJ8W7x"
      },
      "outputs": [],
      "source": [
        "class FeatureSelector:\n",
        "  def __init__(self, num_features):\n",
        "    self.n = num_features # number of best features to select\n",
        "\n",
        "  def fit(self, X, y):\n",
        "    # Select features that describe the targets best, i.e. have\n",
        "    # highest correlation with them:\n",
        "    covariance = ((X - X.mean(axis=0)) * (y[:,np.newaxis] - y.mean())).mean(axis=0)\n",
        "    self.best_feature_ids = np.argsort(np.abs(covariance))[-self.n:]\n",
        "\n",
        "  def transform(self, X):\n",
        "    return X[:,self.best_feature_ids]\n",
        "\n",
        "  def fit_transform(self, X, y):\n",
        "    self.fit(X, y)\n",
        "    return self.transform(X)"
      ]
    },
    {
      "cell_type": "code",
      "execution_count": 3,
      "metadata": {
        "id": "6mu9gHgNBk_V",
        "colab": {
          "base_uri": "https://localhost:8080/"
        },
        "outputId": "7c0000a8-24f5-43a7-e285-b1ca838180d5"
      },
      "outputs": [
        {
          "output_type": "stream",
          "name": "stdout",
          "text": [
            "CV score is 0.9600000000000002\n"
          ]
        }
      ],
      "source": [
        "num_features_total = 1000\n",
        "num_features_best = 100\n",
        "\n",
        "N = 100\n",
        "\n",
        "# Dataset generation\n",
        "X = np.random.normal(size=(N, num_features_total))\n",
        "y = np.random.randint(2, size=N)\n",
        "\n",
        "# Feature selection:\n",
        "X_best = FeatureSelector(num_features_best).fit_transform(X, y)\n",
        "\n",
        "# Simple classification model\n",
        "model = LinearSVC()\n",
        "\n",
        "# Estimatin accuracy using cross-validation:\n",
        "cv_score = cross_val_score(model, X_best, y, scoring='accuracy', cv=10, n_jobs=-1).mean()\n",
        "print(f\"CV score is {cv_score}\")"
      ]
    },
    {
      "cell_type": "markdown",
      "metadata": {
        "id": "afadN3ZVFKjF"
      },
      "source": [
        "What's going on?! Why accuracy is so high?\n",
        "\n",
        "Maybe it just happened by chance? Let's repeat this experiment many times and histogram the results:"
      ]
    },
    {
      "cell_type": "code",
      "execution_count": 4,
      "metadata": {
        "id": "QDbOMXnuC6uw",
        "colab": {
          "base_uri": "https://localhost:8080/",
          "height": 430
        },
        "outputId": "e7ede5b3-3f94-492b-906b-975820cfdd1c"
      },
      "outputs": [
        {
          "output_type": "display_data",
          "data": {
            "text/plain": [
              "<Figure size 640x480 with 1 Axes>"
            ],
            "image/png": "[encoded data removed]"
          },
          "metadata": {}
        }
      ],
      "source": [
        "num_features_total = 1000\n",
        "num_features_best = 100\n",
        "\n",
        "N = 100\n",
        "def experiment():\n",
        "  # Dataset generation\n",
        "  X = np.random.normal(size=(N, num_features_total))\n",
        "  y = np.random.randint(2, size=N)\n",
        "\n",
        "  # Feature selection:\n",
        "  X_best = FeatureSelector(num_features_best).fit_transform(X, y)\n",
        "\n",
        "  # Simple classification model\n",
        "  model = LinearSVC()\n",
        "\n",
        "  # Estimatin accuracy using cross-validation:\n",
        "  return cross_val_score(model, X_best, y, scoring='accuracy', cv=10, n_jobs=-1).mean()\n",
        "\n",
        "results = [experiment() for _ in range(100)]\n",
        "plt.hist(results, bins=10);"
      ]
    },
    {
      "cell_type": "markdown",
      "metadata": {
        "id": "DMYRjjqOLB5Z"
      },
      "source": [
        "## Task 1 (3 points)"
      ]
    },
    {
      "cell_type": "markdown",
      "metadata": {
        "id": "8bLaEypoF5pb"
      },
      "source": [
        "Explain why the estimated model accuracy is not 50% on a dataset where targets were generated **independently from the features (!!!)**.\n",
        "\n",
        "Find and fix the problem (don't change the dataset generation or its parameters - `num_features_total`, `num_features_best`, `N`).\n",
        "\n",
        "*Hint: the problem is in the overall logic, and not a bug in the code.*"
      ]
    },
    {
      "cell_type": "markdown",
      "source": [
        "**ANSWER**  \n",
        "The problem is that we apply feature selection before separating data into train and test. The feature selector finds features that happened to correlate with the whole target dataset, including the y_test samples. This way the information about test dataset is leaked, which results in higher accuracy.\n",
        "\n",
        "When we split the data beforehand, the selector looks only for correlation between X_train and y_train. Howewer, as there is no real dependency between X and y, the chosen features will prove useless on the test data."
      ],
      "metadata": {
        "id": "BM9jFF4Qb-12"
      }
    },
    {
      "cell_type": "code",
      "source": [
        "def crossval(X, y, num_features_best):\n",
        "  acc_list = []\n",
        "  kfold = KFold(n_splits=10)\n",
        "  for i_train, i_test in kfold.split(X):\n",
        "    X_train = X[i_train]\n",
        "    X_test = X[i_test]\n",
        "    y_train = y[i_train]\n",
        "    y_test = y[i_test]\n",
        "\n",
        "    f_select = FeatureSelector(num_features_best)\n",
        "    X_train_best = f_select.fit_transform(X_train, y_train)\n",
        "    X_test_best = f_select.transform(X_test)\n",
        "\n",
        "    model = LinearSVC()\n",
        "    model.fit(X_train_best, y_train)\n",
        "    y_pred = model.predict(X_test_best)\n",
        "    acc_i = accuracy_score(y_test, y_pred)\n",
        "    acc_list.append(acc_i)\n",
        "\n",
        "  accuracy = sum(acc_list)/len(acc_list)\n",
        "  return accuracy"
      ],
      "metadata": {
        "id": "zPrnUm_maqEd"
      },
      "execution_count": 5,
      "outputs": []
    },
    {
      "cell_type": "code",
      "source": [
        "num_features_total = 1000\n",
        "num_features_best = 100\n",
        "\n",
        "N = 100\n",
        "\n",
        "# Dataset generation\n",
        "X = np.random.normal(size=(N, num_features_total))\n",
        "y = np.random.randint(2, size=N)\n",
        "\n",
        "cv_score = crossval(X, y, num_features_best)\n",
        "print(f\"CV score is {cv_score}\")"
      ],
      "metadata": {
        "colab": {
          "base_uri": "https://localhost:8080/"
        },
        "id": "GPKTvarOXCGW",
        "outputId": "f2ea651c-a013-4e35-9bc7-275f3918568a"
      },
      "execution_count": 6,
      "outputs": [
        {
          "output_type": "stream",
          "name": "stdout",
          "text": [
            "CV score is 0.6199999999999999\n"
          ]
        }
      ]
    },
    {
      "cell_type": "code",
      "source": [
        "num_features_total = 1000\n",
        "num_features_best = 100\n",
        "\n",
        "N = 100\n",
        "def experiment():\n",
        "  # Dataset generation\n",
        "  X = np.random.normal(size=(N, num_features_total))\n",
        "  y = np.random.randint(2, size=N)\n",
        "\n",
        "  # Estimatin accuracy using cross-validation:\n",
        "  return crossval(X, y, num_features_best)\n",
        "\n",
        "results = [experiment() for _ in range(200)]\n",
        "plt.hist(results, bins=10, edgecolor='k');"
      ],
      "metadata": {
        "colab": {
          "base_uri": "https://localhost:8080/",
          "height": 430
        },
        "id": "kqpiQ2OOXCBA",
        "outputId": "ce2e6e12-1080-480b-9daf-51ccfc17d277"
      },
      "execution_count": 7,
      "outputs": [
        {
          "output_type": "display_data",
          "data": {
            "text/plain": [
              "<Figure size 640x480 with 1 Axes>"
            ],
            "image/png": "[encoded data removed]"
          },
          "metadata": {}
        }
      ]
    },
    {
      "cell_type": "markdown",
      "metadata": {
        "id": "59ajTmgVh6cu"
      },
      "source": [
        "## Task 2 (3 points)"
      ]
    },
    {
      "cell_type": "markdown",
      "metadata": {
        "id": "lNJKDli2h6cv"
      },
      "source": [
        "Let's come back to Task 3 of Data Handling HW.\n",
        "Build a model with KNeighborsClassifier to get a higher accuracy on 5-fold Cross Validation than you achieve using your previosly fitted model (you can just copy the params from the previous notebook).\n",
        "\n",
        "Use `sklearn.model_selection.GridSearchCV` to find best parameters.  You may check the parameters'  description as follows:\n",
        "``` python\n",
        "help(KNeighborsClassifier)\n",
        "```"
      ]
    },
    {
      "cell_type": "code",
      "execution_count": 8,
      "metadata": {
        "id": "xZkyci5fh6cv",
        "colab": {
          "base_uri": "https://localhost:8080/"
        },
        "outputId": "b1ef93b1-af44-4119-80d3-162bdc4ce74e"
      },
      "outputs": [
        {
          "output_type": "stream",
          "name": "stdout",
          "text": [
            "--2024-10-23 17:38:34--  https://raw.githubusercontent.com/HSE-LAMBDA/MLDM-2022/main/01-intro/train.csv\n",
            "Resolving raw.githubusercontent.com (raw.githubusercontent.com)... 185.199.111.133, 185.199.110.133, 185.199.109.133, ...\n",
            "Connecting to raw.githubusercontent.com (raw.githubusercontent.com)|185.199.111.133|:443... connected.\n",
            "HTTP request sent, awaiting response... 200 OK\n",
            "Length: 60302 (59K) [text/plain]\n",
            "Saving to: ‘train.csv’\n",
            "\n",
            "\rtrain.csv             0%[                    ]       0  --.-KB/s               \rtrain.csv           100%[===================>]  58.89K  --.-KB/s    in 0.01s   \n",
            "\n",
            "2024-10-23 17:38:34 (4.02 MB/s) - ‘train.csv’ saved [60302/60302]\n",
            "\n"
          ]
        }
      ],
      "source": [
        "!wget https://raw.githubusercontent.com/HSE-LAMBDA/MLDM-2022/main/01-intro/train.csv"
      ]
    },
    {
      "cell_type": "code",
      "execution_count": 9,
      "metadata": {
        "id": "pAP9Pmh7h6cv"
      },
      "outputs": [],
      "source": [
        "import pandas as pd\n",
        "from sklearn.metrics import accuracy_score\n",
        "from sklearn.model_selection import GridSearchCV\n",
        "from sklearn.neighbors import KNeighborsClassifier\n",
        "\n",
        "data = pd.read_csv(\"train.csv\", index_col='PassengerId')"
      ]
    },
    {
      "cell_type": "code",
      "source": [
        "# copypasted from Data Handling HW\n",
        "def feature_selection_and_preprocessing(dataset):\n",
        "\n",
        "  features = dataset.copy()\n",
        "  features.drop(['Name', 'Ticket', 'Cabin'], axis=1, inplace=True)\n",
        "\n",
        "  features['Age'] = features['Age'].fillna(features[\"Age\"].mean())\n",
        "\n",
        "  for f_name in ['Fare', 'SibSp', 'Parch','Age']:\n",
        "    range = features[f_name].max() - features[f_name].min()\n",
        "    features[f_name] = (features[f_name] - features[f_name].min())/range\n",
        "\n",
        "  features = features.join(pd.get_dummies(features['Sex']))\n",
        "  features.drop(['Sex'], inplace=True, axis=1)\n",
        "\n",
        "  features = features.join(pd.get_dummies(features['Embarked']))\n",
        "  features.drop(['Embarked'], inplace=True, axis=1)\n",
        "\n",
        "  features = features.join(pd.get_dummies(features['Pclass'], prefix='Pclass'))\n",
        "  features.drop(['Pclass'], inplace=True, axis=1)\n",
        "\n",
        "  return features"
      ],
      "metadata": {
        "id": "tXgXdU5Iggnn"
      },
      "execution_count": 10,
      "outputs": []
    },
    {
      "cell_type": "code",
      "execution_count": 13,
      "metadata": {
        "id": "FIbiU_a0h6cv",
        "colab": {
          "base_uri": "https://localhost:8080/"
        },
        "outputId": "0f0d1195-ddca-4c82-a357-10e80d50fa14"
      },
      "outputs": [
        {
          "output_type": "stream",
          "name": "stdout",
          "text": [
            "Best parameters: {'n_neighbors': 12}\n",
            "Best accuracy: 0.8092\n"
          ]
        }
      ],
      "source": [
        "X = feature_selection_and_preprocessing(data.drop('Survived', axis=1))\n",
        "y = data['Survived']\n",
        "\n",
        "model = KNeighborsClassifier()\n",
        "param_grid = {'n_neighbors': np.arange(1, 15)}\n",
        "gscv = GridSearchCV(model, param_grid, scoring='accuracy', cv=5, n_jobs=-1)\n",
        "\n",
        "gscv.fit(X, y)\n",
        "\n",
        "print(f'Best parameters: {gscv.best_params_}')\n",
        "print(f'Best accuracy: {gscv.best_score_:0.04f}')"
      ]
    },
    {
      "cell_type": "code",
      "source": [
        "old_model = KNeighborsClassifier(n_neighbors=5)\n",
        "old_score = cross_val_score(old_model, X, y, scoring='accuracy', cv=5, n_jobs=-1).mean()\n",
        "print('Score of the previous model (measured with the use of crossvalidation)\\n'\n",
        "      f'n_neighbors = 5, accuracy = {old_score:.04f}')"
      ],
      "metadata": {
        "colab": {
          "base_uri": "https://localhost:8080/"
        },
        "id": "OCrHdHv3gjI0",
        "outputId": "001ec2aa-cadc-4d65-9141-dcf4da5f9c4f"
      },
      "execution_count": 14,
      "outputs": [
        {
          "output_type": "stream",
          "name": "stdout",
          "text": [
            "Score of the previous model (measured with the use of crossvalidation)\n",
            "n_neighbors = 5, accuracy = 0.7946\n"
          ]
        }
      ]
    }
  ],
  "metadata": {
    "colab": {
      "provenance": []
    },
    "kernelspec": {
      "display_name": "Python 3 (ipykernel)",
      "language": "python",
      "name": "python3"
    },
    "language_info": {
      "codemirror_mode": {
        "name": "ipython",
        "version": 3
      },
      "file_extension": ".py",
      "mimetype": "text/x-python",
      "name": "python",
      "nbconvert_exporter": "python",
      "pygments_lexer": "ipython3",
      "version": "3.8.11"
    }
  },
  "nbformat": 4,
  "nbformat_minor": 0
}